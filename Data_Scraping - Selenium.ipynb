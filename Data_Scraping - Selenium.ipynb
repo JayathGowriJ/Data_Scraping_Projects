{
 "cells": [
  {
   "cell_type": "markdown",
   "id": "737320aa",
   "metadata": {},
   "source": [
    "# Data_Scraping using Selenium"
   ]
  },
  {
   "cell_type": "markdown",
   "id": "09993387",
   "metadata": {},
   "source": [
    "# Scrape data using the location and salary filter from naukri website.\n",
    "Scrape data for “Data Scientist” designation for first 10 job results along with job-title, job-location, company name, experience required. The location filter to be used is “Delhi/NCR”. The salary filter to be used is “3-6” lakhs"
   ]
  },
  {
   "cell_type": "code",
   "execution_count": 2,
   "id": "921e358a",
   "metadata": {},
   "outputs": [],
   "source": [
    "# import necessary libraries\n",
    "import selenium\n",
    "from selenium import webdriver\n",
    "from selenium.webdriver.common.by import By\n",
    "import pandas as pd\n",
    "import re\n",
    "import time\n",
    "import warnings\n",
    "warnings.filterwarnings('ignore')"
   ]
  },
  {
   "cell_type": "code",
   "execution_count": 128,
   "id": "c5e729d6",
   "metadata": {},
   "outputs": [],
   "source": [
    "# open chrome and load the webpage\n",
    "driver=webdriver.Chrome()\n",
    "driver.get('https://www.naukri.com/')"
   ]
  },
  {
   "cell_type": "code",
   "execution_count": 129,
   "id": "b0ea7e72",
   "metadata": {},
   "outputs": [],
   "source": [
    "# enter keywords in input sections\n",
    "job=driver.find_element(By.XPATH,'/html/body/div[1]/div[7]/div/div/div[1]/div/div/div/div[1]/div/input').send_keys('Data Scientist')\n",
    "loc=driver.find_element(By.XPATH,'/html/body/div[1]/div[7]/div/div/div[5]/div/div/div/div[1]/div/input').send_keys('Delhi/NCR')"
   ]
  },
  {
   "cell_type": "code",
   "execution_count": 130,
   "id": "cccdd7b2",
   "metadata": {},
   "outputs": [],
   "source": [
    "# search\n",
    "search=driver.find_element(By.XPATH,'/html/body/div[1]/div[7]/div/div/div[6]').click()"
   ]
  },
  {
   "cell_type": "code",
   "execution_count": 131,
   "id": "6a5d32a5",
   "metadata": {},
   "outputs": [],
   "source": [
    "# add salary filter\n",
    "sal=driver.find_element(By.XPATH,'/html/body/div/div/main/div[1]/div[1]/div/div/div[2]/div[5]/div[2]/div[2]/label').click()"
   ]
  },
  {
   "cell_type": "code",
   "execution_count": 132,
   "id": "9ef87b20",
   "metadata": {},
   "outputs": [
    {
     "data": {
      "text/plain": [
       "['Data Scientist',\n",
       " 'Data Scientist',\n",
       " 'Data Scientist I ( SE - 1 )',\n",
       " 'Data Scientist',\n",
       " 'Data Scientist',\n",
       " 'Sr. Data Science Engineer - Noida/BLR',\n",
       " 'Python Data Scientist',\n",
       " 'Data Scientist',\n",
       " 'Data scientist',\n",
       " 'Data Science Manager']"
      ]
     },
     "execution_count": 132,
     "metadata": {},
     "output_type": "execute_result"
    }
   ],
   "source": [
    "# scrape job titles and add it to a list\n",
    "title=[]\n",
    "\n",
    "end=10\n",
    "for i in driver.find_elements(By.XPATH,'//div[@class=\"cust-job-tuple layout-wrapper lay-2 sjw__tuple \"]/div/a'):\n",
    "    title.append(i.text)\n",
    "    if len(title)==end:\n",
    "        break\n",
    "title "
   ]
  },
  {
   "cell_type": "code",
   "execution_count": 133,
   "id": "28218af5",
   "metadata": {},
   "outputs": [
    {
     "data": {
      "text/plain": [
       "['Aurigo Software Technologies',\n",
       " 'WSD Consultant',\n",
       " 'Yatra.com',\n",
       " 'Hero Fincorp',\n",
       " 'Acenet',\n",
       " 'Imaginators Try Going Beyond',\n",
       " 'Buddy4study',\n",
       " 'Akhil Systems',\n",
       " 'Digital Vidya',\n",
       " 'Digilytics']"
      ]
     },
     "execution_count": 133,
     "metadata": {},
     "output_type": "execute_result"
    }
   ],
   "source": [
    "# scrape company name and add it to a list\n",
    "company=[]\n",
    "\n",
    "end=10\n",
    "for i in driver.find_elements(By.XPATH,'//span[@class=\" comp-dtls-wrap\"]/a[1]'):\n",
    "    company.append(i.text)\n",
    "    if len(company)==end:\n",
    "        break\n",
    "company "
   ]
  },
  {
   "cell_type": "code",
   "execution_count": 134,
   "id": "c923c36d",
   "metadata": {},
   "outputs": [
    {
     "data": {
      "text/plain": [
       "['Kolkata, Mumbai, New Delhi, Hyderabad, Pune, Chennai, Bengaluru',\n",
       " 'Mumbai, Hyderabad, Pune, Chennai, Gurugram, Bengaluru',\n",
       " 'New Delhi',\n",
       " 'Delhi / NCR',\n",
       " 'Gurugram, Bengaluru',\n",
       " 'Noida, Uttar Pradesh, Bengaluru, Karnataka',\n",
       " 'Noida',\n",
       " 'Gurugram',\n",
       " 'Gurugram',\n",
       " 'Gurugram']"
      ]
     },
     "execution_count": 134,
     "metadata": {},
     "output_type": "execute_result"
    }
   ],
   "source": [
    "# scrape job location and add it to a list\n",
    "location=[]\n",
    "\n",
    "end=10\n",
    "for i in driver.find_elements(By.XPATH,'//span[@class=\"locWdth\"]'):\n",
    "    location.append(i.text)\n",
    "    if len(location)==end:\n",
    "        break\n",
    "location "
   ]
  },
  {
   "cell_type": "code",
   "execution_count": 135,
   "id": "ff5cb3e7",
   "metadata": {},
   "outputs": [
    {
     "data": {
      "text/plain": [
       "['4-8 Yrs',\n",
       " '1-5 Yrs',\n",
       " '1-5 Yrs',\n",
       " '3-8 Yrs',\n",
       " '3-4 Yrs',\n",
       " '6-8 Yrs',\n",
       " '4-8 Yrs',\n",
       " '5-8 Yrs',\n",
       " '4-8 Yrs',\n",
       " '7-10 Yrs']"
      ]
     },
     "execution_count": 135,
     "metadata": {},
     "output_type": "execute_result"
    }
   ],
   "source": [
    "# scrape experience required and add it to a list\n",
    "experience=[]\n",
    "\n",
    "end=10\n",
    "for i in driver.find_elements(By.XPATH,'//span[@class=\"expwdth\"]'):\n",
    "    experience.append(i.text)\n",
    "    if len(experience)==end:\n",
    "        break\n",
    "experience "
   ]
  },
  {
   "cell_type": "code",
   "execution_count": 136,
   "id": "6b928e23",
   "metadata": {},
   "outputs": [
    {
     "name": "stdout",
     "output_type": "stream",
     "text": [
      "10 10 10 10\n"
     ]
    }
   ],
   "source": [
    "# ensure all lists have same size before making dataframe\n",
    "print(len(title),len(company),len(location),len(experience))"
   ]
  },
  {
   "cell_type": "code",
   "execution_count": 137,
   "id": "9801177b",
   "metadata": {},
   "outputs": [
    {
     "data": {
      "text/html": [
       "<div>\n",
       "<style scoped>\n",
       "    .dataframe tbody tr th:only-of-type {\n",
       "        vertical-align: middle;\n",
       "    }\n",
       "\n",
       "    .dataframe tbody tr th {\n",
       "        vertical-align: top;\n",
       "    }\n",
       "\n",
       "    .dataframe thead th {\n",
       "        text-align: right;\n",
       "    }\n",
       "</style>\n",
       "<table border=\"1\" class=\"dataframe\">\n",
       "  <thead>\n",
       "    <tr style=\"text-align: right;\">\n",
       "      <th></th>\n",
       "      <th>Job title</th>\n",
       "      <th>Company</th>\n",
       "      <th>Location</th>\n",
       "      <th>Experience required</th>\n",
       "    </tr>\n",
       "  </thead>\n",
       "  <tbody>\n",
       "    <tr>\n",
       "      <th>0</th>\n",
       "      <td>Data Scientist</td>\n",
       "      <td>Aurigo Software Technologies</td>\n",
       "      <td>Kolkata, Mumbai, New Delhi, Hyderabad, Pune, C...</td>\n",
       "      <td>4-8 Yrs</td>\n",
       "    </tr>\n",
       "    <tr>\n",
       "      <th>1</th>\n",
       "      <td>Data Scientist</td>\n",
       "      <td>WSD Consultant</td>\n",
       "      <td>Mumbai, Hyderabad, Pune, Chennai, Gurugram, Be...</td>\n",
       "      <td>1-5 Yrs</td>\n",
       "    </tr>\n",
       "    <tr>\n",
       "      <th>2</th>\n",
       "      <td>Data Scientist I ( SE - 1 )</td>\n",
       "      <td>Yatra.com</td>\n",
       "      <td>New Delhi</td>\n",
       "      <td>1-5 Yrs</td>\n",
       "    </tr>\n",
       "    <tr>\n",
       "      <th>3</th>\n",
       "      <td>Data Scientist</td>\n",
       "      <td>Hero Fincorp</td>\n",
       "      <td>Delhi / NCR</td>\n",
       "      <td>3-8 Yrs</td>\n",
       "    </tr>\n",
       "    <tr>\n",
       "      <th>4</th>\n",
       "      <td>Data Scientist</td>\n",
       "      <td>Acenet</td>\n",
       "      <td>Gurugram, Bengaluru</td>\n",
       "      <td>3-4 Yrs</td>\n",
       "    </tr>\n",
       "    <tr>\n",
       "      <th>5</th>\n",
       "      <td>Sr. Data Science Engineer - Noida/BLR</td>\n",
       "      <td>Imaginators Try Going Beyond</td>\n",
       "      <td>Noida, Uttar Pradesh, Bengaluru, Karnataka</td>\n",
       "      <td>6-8 Yrs</td>\n",
       "    </tr>\n",
       "    <tr>\n",
       "      <th>6</th>\n",
       "      <td>Python Data Scientist</td>\n",
       "      <td>Buddy4study</td>\n",
       "      <td>Noida</td>\n",
       "      <td>4-8 Yrs</td>\n",
       "    </tr>\n",
       "    <tr>\n",
       "      <th>7</th>\n",
       "      <td>Data Scientist</td>\n",
       "      <td>Akhil Systems</td>\n",
       "      <td>Gurugram</td>\n",
       "      <td>5-8 Yrs</td>\n",
       "    </tr>\n",
       "    <tr>\n",
       "      <th>8</th>\n",
       "      <td>Data scientist</td>\n",
       "      <td>Digital Vidya</td>\n",
       "      <td>Gurugram</td>\n",
       "      <td>4-8 Yrs</td>\n",
       "    </tr>\n",
       "    <tr>\n",
       "      <th>9</th>\n",
       "      <td>Data Science Manager</td>\n",
       "      <td>Digilytics</td>\n",
       "      <td>Gurugram</td>\n",
       "      <td>7-10 Yrs</td>\n",
       "    </tr>\n",
       "  </tbody>\n",
       "</table>\n",
       "</div>"
      ],
      "text/plain": [
       "                               Job title                       Company  \\\n",
       "0                         Data Scientist  Aurigo Software Technologies   \n",
       "1                         Data Scientist                WSD Consultant   \n",
       "2            Data Scientist I ( SE - 1 )                     Yatra.com   \n",
       "3                         Data Scientist                  Hero Fincorp   \n",
       "4                         Data Scientist                        Acenet   \n",
       "5  Sr. Data Science Engineer - Noida/BLR  Imaginators Try Going Beyond   \n",
       "6                  Python Data Scientist                   Buddy4study   \n",
       "7                         Data Scientist                 Akhil Systems   \n",
       "8                         Data scientist                 Digital Vidya   \n",
       "9                   Data Science Manager                    Digilytics   \n",
       "\n",
       "                                            Location Experience required  \n",
       "0  Kolkata, Mumbai, New Delhi, Hyderabad, Pune, C...             4-8 Yrs  \n",
       "1  Mumbai, Hyderabad, Pune, Chennai, Gurugram, Be...             1-5 Yrs  \n",
       "2                                          New Delhi             1-5 Yrs  \n",
       "3                                        Delhi / NCR             3-8 Yrs  \n",
       "4                                Gurugram, Bengaluru             3-4 Yrs  \n",
       "5         Noida, Uttar Pradesh, Bengaluru, Karnataka             6-8 Yrs  \n",
       "6                                              Noida             4-8 Yrs  \n",
       "7                                           Gurugram             5-8 Yrs  \n",
       "8                                           Gurugram             4-8 Yrs  \n",
       "9                                           Gurugram            7-10 Yrs  "
      ]
     },
     "execution_count": 137,
     "metadata": {},
     "output_type": "execute_result"
    }
   ],
   "source": [
    "naukri_data=pd.DataFrame({'Job title':title,'Company': company,'Location':location,'Experience required':experience})\n",
    "naukri_data"
   ]
  },
  {
   "cell_type": "code",
   "execution_count": 138,
   "id": "592cfd9e",
   "metadata": {},
   "outputs": [],
   "source": [
    "driver.quit()"
   ]
  },
  {
   "cell_type": "markdown",
   "id": "09695f2d",
   "metadata": {},
   "source": [
    "# Scrape data for “Data Scientist” Job position in “Bangalore” location from shine website. \n",
    "Data to be scraped are job-title, job-location, company_name, experience_required.\n"
   ]
  },
  {
   "cell_type": "code",
   "execution_count": 139,
   "id": "41505d10",
   "metadata": {},
   "outputs": [],
   "source": [
    "# open chrome and go to shine website\n",
    "driver=webdriver.Chrome()\n",
    "driver.get('https://www.shine.com/')"
   ]
  },
  {
   "cell_type": "code",
   "execution_count": 141,
   "id": "5c525ca1",
   "metadata": {},
   "outputs": [],
   "source": [
    "# enter the keywords and search\n",
    "job=driver.find_element(By.XPATH,('/html/body/div/div[4]/div/div[2]/div[2]/div/form/div/div[1]/ul/li[1]/div/input')).send_keys('Data Scientist')\n",
    "loc=driver.find_element(By.XPATH,'/html/body/div/div[4]/div/div[2]/div[2]/div/form/div/div[1]/ul/li[2]/div/input').send_keys('Bangalore')\n",
    "search=driver.find_element(By.XPATH,'/html/body/div/div[4]/div/div[2]/div[2]/div/form/div/div[2]/div/button').click()"
   ]
  },
  {
   "cell_type": "code",
   "execution_count": 142,
   "id": "f7ca198e",
   "metadata": {},
   "outputs": [
    {
     "data": {
      "text/plain": [
       "['Data Scientist',\n",
       " 'Data Scientist Urgent Recruitment',\n",
       " 'Data Scientist Opening',\n",
       " 'Data Scientist Recruitment',\n",
       " 'Data Scientist Vacancy',\n",
       " 'Hiring For Data Scientist',\n",
       " 'Data Scientist Opening',\n",
       " 'Data Scientist Opening',\n",
       " 'Data Scientist Recruitment',\n",
       " 'Data Scientist']"
      ]
     },
     "execution_count": 142,
     "metadata": {},
     "output_type": "execute_result"
    }
   ],
   "source": [
    "# scrap job title\n",
    "title=[]\n",
    "while len(title)<10:\n",
    "    for i in driver.find_elements(By.XPATH,'//strong[@class=\"jobCard_pReplaceH2__xWmHg\"]/a'):\n",
    "        title.append(i.text)\n",
    "        if len(title)==10:\n",
    "            break\n",
    "title"
   ]
  },
  {
   "cell_type": "code",
   "execution_count": 143,
   "id": "ac6fdf7b",
   "metadata": {},
   "outputs": [
    {
     "data": {
      "text/plain": [
       "['alike thoughts solutions private li...',\n",
       " 'divya staffing solution',\n",
       " 'divya staffing solution',\n",
       " 'radhika enterprises',\n",
       " 'divya staffing solution',\n",
       " 'divya staffing solution',\n",
       " 'renuka interprises',\n",
       " 'renuka interprises',\n",
       " 'radhika enterprises',\n",
       " 'techno endura']"
      ]
     },
     "execution_count": 143,
     "metadata": {},
     "output_type": "execute_result"
    }
   ],
   "source": [
    "#scrap company\n",
    "company=[]\n",
    "while len(company)<10:\n",
    "    for i in driver.find_elements(By.XPATH,'//div[@class=\"jobCard_jobCard_cName__mYnow\"]/span'):\n",
    "        company.append(i.text)\n",
    "        if len(company)==10:\n",
    "            break\n",
    "company"
   ]
  },
  {
   "cell_type": "code",
   "execution_count": 144,
   "id": "6939a8f4",
   "metadata": {},
   "outputs": [
    {
     "data": {
      "text/plain": [
       "['Bangalore',\n",
       " 'Bangalore',\n",
       " 'Bangalore',\n",
       " 'Bangalore',\n",
       " 'Bangalore',\n",
       " 'Bangalore',\n",
       " 'Bangalore',\n",
       " 'Bangalore',\n",
       " 'Bangalore',\n",
       " 'Bangalore']"
      ]
     },
     "execution_count": 144,
     "metadata": {},
     "output_type": "execute_result"
    }
   ],
   "source": [
    "# scrap location\n",
    "location=[]\n",
    "while len(location)<10:\n",
    "    for i in driver.find_elements(By.XPATH,'//div[@class=\" jobCard_jobCard_lists_item__YxRkV jobCard_locationIcon__zrWt2\"] '):\n",
    "        location.append(i.text.split('\\n')[0])\n",
    "        if len(location)==10:\n",
    "            break\n",
    "location"
   ]
  },
  {
   "cell_type": "code",
   "execution_count": 145,
   "id": "93658a15",
   "metadata": {},
   "outputs": [
    {
     "data": {
      "text/plain": [
       "['5 to 10 Yrs',\n",
       " '0 to 4 Yrs',\n",
       " '0 to 4 Yrs',\n",
       " '0 to 4 Yrs',\n",
       " '0 to 4 Yrs',\n",
       " '0 to 4 Yrs',\n",
       " '0 to 4 Yrs',\n",
       " '0 to 4 Yrs',\n",
       " '0 to 4 Yrs',\n",
       " '0 to 2 Yrs']"
      ]
     },
     "execution_count": 145,
     "metadata": {},
     "output_type": "execute_result"
    }
   ],
   "source": [
    "# scrap experience\n",
    "exp=[]\n",
    "while len(exp)<10:\n",
    "    for i in driver.find_elements(By.XPATH,'//div[@class=\" jobCard_jobCard_lists_item__YxRkV jobCard_jobIcon__3FB1t\"]'):\n",
    "        exp.append(i.text)\n",
    "        if len(exp)==10:\n",
    "            break\n",
    "exp"
   ]
  },
  {
   "cell_type": "code",
   "execution_count": 146,
   "id": "14074e4a",
   "metadata": {},
   "outputs": [
    {
     "name": "stdout",
     "output_type": "stream",
     "text": [
      "10 10 10 10\n"
     ]
    }
   ],
   "source": [
    "# ensure all lists have same size before making dataframe\n",
    "print(len(title),len(company),len(location),len(exp))"
   ]
  },
  {
   "cell_type": "code",
   "execution_count": 147,
   "id": "c4d63496",
   "metadata": {},
   "outputs": [
    {
     "data": {
      "text/html": [
       "<div>\n",
       "<style scoped>\n",
       "    .dataframe tbody tr th:only-of-type {\n",
       "        vertical-align: middle;\n",
       "    }\n",
       "\n",
       "    .dataframe tbody tr th {\n",
       "        vertical-align: top;\n",
       "    }\n",
       "\n",
       "    .dataframe thead th {\n",
       "        text-align: right;\n",
       "    }\n",
       "</style>\n",
       "<table border=\"1\" class=\"dataframe\">\n",
       "  <thead>\n",
       "    <tr style=\"text-align: right;\">\n",
       "      <th></th>\n",
       "      <th>Job title</th>\n",
       "      <th>Company name</th>\n",
       "      <th>Location</th>\n",
       "      <th>Experience required</th>\n",
       "    </tr>\n",
       "  </thead>\n",
       "  <tbody>\n",
       "    <tr>\n",
       "      <th>0</th>\n",
       "      <td>Data Scientist</td>\n",
       "      <td>alike thoughts solutions private li...</td>\n",
       "      <td>Bangalore</td>\n",
       "      <td>5 to 10 Yrs</td>\n",
       "    </tr>\n",
       "    <tr>\n",
       "      <th>1</th>\n",
       "      <td>Data Scientist Urgent Recruitment</td>\n",
       "      <td>divya staffing solution</td>\n",
       "      <td>Bangalore</td>\n",
       "      <td>0 to 4 Yrs</td>\n",
       "    </tr>\n",
       "    <tr>\n",
       "      <th>2</th>\n",
       "      <td>Data Scientist Opening</td>\n",
       "      <td>divya staffing solution</td>\n",
       "      <td>Bangalore</td>\n",
       "      <td>0 to 4 Yrs</td>\n",
       "    </tr>\n",
       "    <tr>\n",
       "      <th>3</th>\n",
       "      <td>Data Scientist Recruitment</td>\n",
       "      <td>radhika enterprises</td>\n",
       "      <td>Bangalore</td>\n",
       "      <td>0 to 4 Yrs</td>\n",
       "    </tr>\n",
       "    <tr>\n",
       "      <th>4</th>\n",
       "      <td>Data Scientist Vacancy</td>\n",
       "      <td>divya staffing solution</td>\n",
       "      <td>Bangalore</td>\n",
       "      <td>0 to 4 Yrs</td>\n",
       "    </tr>\n",
       "    <tr>\n",
       "      <th>5</th>\n",
       "      <td>Hiring For Data Scientist</td>\n",
       "      <td>divya staffing solution</td>\n",
       "      <td>Bangalore</td>\n",
       "      <td>0 to 4 Yrs</td>\n",
       "    </tr>\n",
       "    <tr>\n",
       "      <th>6</th>\n",
       "      <td>Data Scientist Opening</td>\n",
       "      <td>renuka interprises</td>\n",
       "      <td>Bangalore</td>\n",
       "      <td>0 to 4 Yrs</td>\n",
       "    </tr>\n",
       "    <tr>\n",
       "      <th>7</th>\n",
       "      <td>Data Scientist Opening</td>\n",
       "      <td>renuka interprises</td>\n",
       "      <td>Bangalore</td>\n",
       "      <td>0 to 4 Yrs</td>\n",
       "    </tr>\n",
       "    <tr>\n",
       "      <th>8</th>\n",
       "      <td>Data Scientist Recruitment</td>\n",
       "      <td>radhika enterprises</td>\n",
       "      <td>Bangalore</td>\n",
       "      <td>0 to 4 Yrs</td>\n",
       "    </tr>\n",
       "    <tr>\n",
       "      <th>9</th>\n",
       "      <td>Data Scientist</td>\n",
       "      <td>techno endura</td>\n",
       "      <td>Bangalore</td>\n",
       "      <td>0 to 2 Yrs</td>\n",
       "    </tr>\n",
       "  </tbody>\n",
       "</table>\n",
       "</div>"
      ],
      "text/plain": [
       "                           Job title                            Company name  \\\n",
       "0                     Data Scientist  alike thoughts solutions private li...   \n",
       "1  Data Scientist Urgent Recruitment                 divya staffing solution   \n",
       "2             Data Scientist Opening                 divya staffing solution   \n",
       "3         Data Scientist Recruitment                     radhika enterprises   \n",
       "4             Data Scientist Vacancy                 divya staffing solution   \n",
       "5          Hiring For Data Scientist                 divya staffing solution   \n",
       "6             Data Scientist Opening                      renuka interprises   \n",
       "7             Data Scientist Opening                      renuka interprises   \n",
       "8         Data Scientist Recruitment                     radhika enterprises   \n",
       "9                     Data Scientist                           techno endura   \n",
       "\n",
       "    Location Experience required  \n",
       "0  Bangalore         5 to 10 Yrs  \n",
       "1  Bangalore          0 to 4 Yrs  \n",
       "2  Bangalore          0 to 4 Yrs  \n",
       "3  Bangalore          0 to 4 Yrs  \n",
       "4  Bangalore          0 to 4 Yrs  \n",
       "5  Bangalore          0 to 4 Yrs  \n",
       "6  Bangalore          0 to 4 Yrs  \n",
       "7  Bangalore          0 to 4 Yrs  \n",
       "8  Bangalore          0 to 4 Yrs  \n",
       "9  Bangalore          0 to 2 Yrs  "
      ]
     },
     "execution_count": 147,
     "metadata": {},
     "output_type": "execute_result"
    }
   ],
   "source": [
    "shine_data=pd.DataFrame({'Job title': title,'Company name':company,'Location':location,'Experience required':exp})\n",
    "shine_data"
   ]
  },
  {
   "cell_type": "code",
   "execution_count": 148,
   "id": "de198cca",
   "metadata": {},
   "outputs": [],
   "source": [
    "driver.quit()"
   ]
  },
  {
   "cell_type": "markdown",
   "id": "66e804f8",
   "metadata": {},
   "source": [
    "# Scrape 100 reviews data from flipkart.com for iphone11 phone. \n",
    "\n",
    "Data to be scraped are:\n",
    "1. Rating\n",
    "2. Review summary\n",
    "3. Full review\n"
   ]
  },
  {
   "cell_type": "code",
   "execution_count": 149,
   "id": "e2ed47b8",
   "metadata": {},
   "outputs": [],
   "source": [
    "# open chrome and load the webpage\n",
    "driver=webdriver.Chrome()\n",
    "url='https://www.flipkart.com/apple-iphone-11-black-64-gb/product-reviews/itm4e5041ba101fd?pid=MOBFWQ6BXGJCEYNY&lid=LSTMOBFWQ6BXGJCEYNYZXSHRJ&marketplace=FLIPKART'\n",
    "driver.get(url)"
   ]
  },
  {
   "cell_type": "code",
   "execution_count": 150,
   "id": "0f128845",
   "metadata": {},
   "outputs": [
    {
     "data": {
      "text/plain": [
       "['5', '5', '5', '5', '5']"
      ]
     },
     "execution_count": 150,
     "metadata": {},
     "output_type": "execute_result"
    }
   ],
   "source": [
    "# scrape 100 ratings and return to initial page \n",
    "rating = []\n",
    "\n",
    "while len(rating) < 100:\n",
    "    for i in driver.find_elements(By.XPATH, '//div[@class=\"_3LWZlK _1BLPMq\"]'):\n",
    "        rating.append(i.text)\n",
    "        if len(rating) == 100:\n",
    "            break\n",
    "\n",
    "    if len(rating) == 100:\n",
    "        break\n",
    "\n",
    "    next_buttons = driver.find_elements(By.CLASS_NAME, '_1LKTO3')\n",
    "    if next_buttons:\n",
    "        next_buttons[-1].click()\n",
    "    go_to_first_page=driver.get(url)\n",
    "\n",
    "\n",
    "    time.sleep(3)  \n",
    "\n",
    "rating[:5]\n"
   ]
  },
  {
   "cell_type": "code",
   "execution_count": 151,
   "id": "76f51151",
   "metadata": {},
   "outputs": [
    {
     "data": {
      "text/plain": [
       "['Excellent',\n",
       " 'Perfect product!',\n",
       " 'Worth every penny',\n",
       " 'Best in the market!',\n",
       " 'Wonderful']"
      ]
     },
     "execution_count": 151,
     "metadata": {},
     "output_type": "execute_result"
    }
   ],
   "source": [
    "# scrape review summary\n",
    "review1 = []\n",
    "\n",
    "while len(review1) < 100:\n",
    "    for i in driver.find_elements(By.XPATH, '//p[@class=\"_2-N8zT\"]'):\n",
    "        review1.append(i.text)\n",
    "        if len(review1) == 100:\n",
    "            break\n",
    "\n",
    "    if len(review1) == 100:\n",
    "        break\n",
    "\n",
    "    next_buttons = driver.find_elements(By.CLASS_NAME, '_1LKTO3')\n",
    "    if next_buttons:\n",
    "        next_buttons[-1].click()\n",
    "    go_to_first_page=driver.get(url)\n",
    "\n",
    "\n",
    "    time.sleep(3)  \n",
    "\n",
    "review1[:5]\n"
   ]
  },
  {
   "cell_type": "code",
   "execution_count": 152,
   "id": "4c2781ee",
   "metadata": {},
   "outputs": [
    {
     "data": {
      "text/plain": [
       "['NYC',\n",
       " 'Photos super',\n",
       " 'Feeling awesome after getting the delivery of my phone. Dual speakers makes the sound quality very loud. Amazing!!',\n",
       " 'Good Camera',\n",
       " 'This is amazing at all']"
      ]
     },
     "execution_count": 152,
     "metadata": {},
     "output_type": "execute_result"
    }
   ],
   "source": [
    "# scrape full review \n",
    "review2 = []\n",
    "\n",
    "while len(review2) < 100:\n",
    "    for i in driver.find_elements(By.XPATH, '//div[@class=\"t-ZTKy\"]'):\n",
    "        review2.append(i.text)\n",
    "        if len(review2) == 100:\n",
    "            break\n",
    "\n",
    "    if len(review2) == 100:\n",
    "        break\n",
    "\n",
    "    next_buttons = driver.find_elements(By.CLASS_NAME, '_1LKTO3')\n",
    "    if next_buttons:\n",
    "        next_buttons[-1].click()\n",
    "    go_to_first_page=driver.get(url)\n",
    "\n",
    "\n",
    "    time.sleep(3)  \n",
    "\n",
    "review2[:5]\n"
   ]
  },
  {
   "cell_type": "code",
   "execution_count": 153,
   "id": "57bc680c",
   "metadata": {},
   "outputs": [
    {
     "name": "stdout",
     "output_type": "stream",
     "text": [
      "100 100 100\n"
     ]
    }
   ],
   "source": [
    "# ensure all lists have same size before making dataframe\n",
    "print(len(rating),len(review1),len(review2))"
   ]
  },
  {
   "cell_type": "code",
   "execution_count": 154,
   "id": "eb480bd5",
   "metadata": {},
   "outputs": [
    {
     "data": {
      "text/html": [
       "<div>\n",
       "<style scoped>\n",
       "    .dataframe tbody tr th:only-of-type {\n",
       "        vertical-align: middle;\n",
       "    }\n",
       "\n",
       "    .dataframe tbody tr th {\n",
       "        vertical-align: top;\n",
       "    }\n",
       "\n",
       "    .dataframe thead th {\n",
       "        text-align: right;\n",
       "    }\n",
       "</style>\n",
       "<table border=\"1\" class=\"dataframe\">\n",
       "  <thead>\n",
       "    <tr style=\"text-align: right;\">\n",
       "      <th></th>\n",
       "      <th>iphone rating</th>\n",
       "      <th>Review Summary</th>\n",
       "      <th>Full Review</th>\n",
       "    </tr>\n",
       "  </thead>\n",
       "  <tbody>\n",
       "    <tr>\n",
       "      <th>0</th>\n",
       "      <td>5</td>\n",
       "      <td>Excellent</td>\n",
       "      <td>NYC</td>\n",
       "    </tr>\n",
       "    <tr>\n",
       "      <th>1</th>\n",
       "      <td>5</td>\n",
       "      <td>Perfect product!</td>\n",
       "      <td>Photos super</td>\n",
       "    </tr>\n",
       "    <tr>\n",
       "      <th>2</th>\n",
       "      <td>5</td>\n",
       "      <td>Worth every penny</td>\n",
       "      <td>Feeling awesome after getting the delivery of ...</td>\n",
       "    </tr>\n",
       "    <tr>\n",
       "      <th>3</th>\n",
       "      <td>5</td>\n",
       "      <td>Best in the market!</td>\n",
       "      <td>Good Camera</td>\n",
       "    </tr>\n",
       "    <tr>\n",
       "      <th>4</th>\n",
       "      <td>5</td>\n",
       "      <td>Wonderful</td>\n",
       "      <td>This is amazing at all</td>\n",
       "    </tr>\n",
       "    <tr>\n",
       "      <th>...</th>\n",
       "      <td>...</td>\n",
       "      <td>...</td>\n",
       "      <td>...</td>\n",
       "    </tr>\n",
       "    <tr>\n",
       "      <th>95</th>\n",
       "      <td>5</td>\n",
       "      <td>Terrific purchase</td>\n",
       "      <td>Value for money 😍</td>\n",
       "    </tr>\n",
       "    <tr>\n",
       "      <th>96</th>\n",
       "      <td>5</td>\n",
       "      <td>Classy product</td>\n",
       "      <td>Camera is awesome\\nBest battery backup\\nA perf...</td>\n",
       "    </tr>\n",
       "    <tr>\n",
       "      <th>97</th>\n",
       "      <td>5</td>\n",
       "      <td>Must buy!</td>\n",
       "      <td>It’s really awesome</td>\n",
       "    </tr>\n",
       "    <tr>\n",
       "      <th>98</th>\n",
       "      <td>5</td>\n",
       "      <td>Terrific</td>\n",
       "      <td>Very very good</td>\n",
       "    </tr>\n",
       "    <tr>\n",
       "      <th>99</th>\n",
       "      <td>5</td>\n",
       "      <td>Just wow!</td>\n",
       "      <td>Perfect Product!!</td>\n",
       "    </tr>\n",
       "  </tbody>\n",
       "</table>\n",
       "<p>100 rows × 3 columns</p>\n",
       "</div>"
      ],
      "text/plain": [
       "   iphone rating       Review Summary  \\\n",
       "0              5            Excellent   \n",
       "1              5     Perfect product!   \n",
       "2              5    Worth every penny   \n",
       "3              5  Best in the market!   \n",
       "4              5            Wonderful   \n",
       "..           ...                  ...   \n",
       "95             5    Terrific purchase   \n",
       "96             5       Classy product   \n",
       "97             5            Must buy!   \n",
       "98             5             Terrific   \n",
       "99             5            Just wow!   \n",
       "\n",
       "                                          Full Review  \n",
       "0                                                 NYC  \n",
       "1                                        Photos super  \n",
       "2   Feeling awesome after getting the delivery of ...  \n",
       "3                                         Good Camera  \n",
       "4                              This is amazing at all  \n",
       "..                                                ...  \n",
       "95                                  Value for money 😍  \n",
       "96  Camera is awesome\\nBest battery backup\\nA perf...  \n",
       "97                                It’s really awesome  \n",
       "98                                     Very very good  \n",
       "99                                  Perfect Product!!  \n",
       "\n",
       "[100 rows x 3 columns]"
      ]
     },
     "execution_count": 154,
     "metadata": {},
     "output_type": "execute_result"
    }
   ],
   "source": [
    "flipkart_reviews=pd.DataFrame({'iphone rating': rating,'Review Summary':review1,'Full Review':review2})\n",
    "flipkart_reviews"
   ]
  },
  {
   "cell_type": "code",
   "execution_count": 155,
   "id": "fccf60af",
   "metadata": {},
   "outputs": [],
   "source": [
    "driver.quit()"
   ]
  },
  {
   "cell_type": "markdown",
   "id": "619497ee",
   "metadata": {},
   "source": [
    "# Scrape data for first 100 sneakers from flipkart.com\n",
    "Data to be scraped are:\n",
    "1. Brand\n",
    "2. Product Description\n",
    "3. Price\n"
   ]
  },
  {
   "cell_type": "code",
   "execution_count": 156,
   "id": "8eb990d6",
   "metadata": {},
   "outputs": [],
   "source": [
    "# load chrome and get the url\n",
    "driver=webdriver.Chrome()\n",
    "url='https://www.flipkart.com/'\n",
    "driver.get(url)"
   ]
  },
  {
   "cell_type": "code",
   "execution_count": 157,
   "id": "44f47d0b",
   "metadata": {},
   "outputs": [],
   "source": [
    "# search for the keyword\n",
    "keyword=driver.find_element(By.CLASS_NAME,'Pke_EE').send_keys('sneakers')\n",
    "search=driver.find_element(By.XPATH,'/html/body/div[1]/div/div[1]/div/div/div/div/div[1]/div/div[1]/div/div[1]/div[1]/header/div[1]/div[2]/form/div/button')\n",
    "search.click()"
   ]
  },
  {
   "cell_type": "code",
   "execution_count": 158,
   "id": "e4d0e819",
   "metadata": {},
   "outputs": [
    {
     "data": {
      "text/plain": [
       "['RapidBox', 'ATOM', 'Deals4you', 'URBANBOX', 'RED TAPE']"
      ]
     },
     "execution_count": 158,
     "metadata": {},
     "output_type": "execute_result"
    }
   ],
   "source": [
    "# scrape sneaker brands\n",
    "brand=[]\n",
    "while len(brand)<100:\n",
    "    for i in driver.find_elements(By.XPATH,'//div[@class=\"_2WkVRV\"]'):\n",
    "        brand.append(i.text)\n",
    "        if len(brand)==100:\n",
    "            break\n",
    "    if len(brand)==100:\n",
    "        break\n",
    "    nextbutton=driver.find_element(By.XPATH,'//a[@class=\"_1LKTO3\"]').click()\n",
    "    time.sleep(2)\n",
    "\n",
    "brand[:5]"
   ]
  },
  {
   "cell_type": "code",
   "execution_count": 159,
   "id": "06f6c3c6",
   "metadata": {},
   "outputs": [
    {
     "data": {
      "text/plain": [
       "['Spring Edge Alpha 2 Sneakers For Men',\n",
       " 'Alpha Predator Sneakers For Men',\n",
       " 'Sneakers For Women',\n",
       " 'Trending Stylish Casual Outdoor Shoes Sneakers For Men',\n",
       " 'Casual Sneakers Shoes for Men | Soft Cushioned Insole, ...']"
      ]
     },
     "execution_count": 159,
     "metadata": {},
     "output_type": "execute_result"
    }
   ],
   "source": [
    "# scrape pdt description\n",
    "des=[]\n",
    "while len(des)<100:\n",
    "    for i in driver.find_elements(By.XPATH,'//a[@class=\"IRpwTa\"]'):\n",
    "        des.append(i.text)\n",
    "        if len(des)==100:\n",
    "            break\n",
    "    if len(des)==100:\n",
    "        break\n",
    "    nextbutton=driver.find_element(By.XPATH,'//a[@class=\"_1LKTO3\" ]')\n",
    "    if nextbutton:\n",
    "        nextbutton.click()\n",
    "    time.sleep(2)\n",
    "des[:5]"
   ]
  },
  {
   "cell_type": "code",
   "execution_count": 160,
   "id": "c6bfc3f8",
   "metadata": {},
   "outputs": [
    {
     "data": {
      "text/plain": [
       "['₹595', '₹1,335', '₹819', '₹1,119', '₹2,474']"
      ]
     },
     "execution_count": 160,
     "metadata": {},
     "output_type": "execute_result"
    }
   ],
   "source": [
    "# scrape pdt price\n",
    "price=[]\n",
    "while len(price)<100:\n",
    "    for i in driver.find_elements(By.XPATH,'//div[@class=\"_30jeq3\"]'):\n",
    "        price.append(i.text)\n",
    "        if len(price)==100:\n",
    "            break\n",
    "    if len(price)==100:\n",
    "        break\n",
    "    nextbutton=driver.find_element(By.XPATH,'//a[@class=\"_1LKTO3\" ]').click()\n",
    "    time.sleep(2)\n",
    "price[:5]"
   ]
  },
  {
   "cell_type": "code",
   "execution_count": 161,
   "id": "64391407",
   "metadata": {},
   "outputs": [
    {
     "name": "stdout",
     "output_type": "stream",
     "text": [
      "100 100 100\n"
     ]
    }
   ],
   "source": [
    "# ensure all lists have same size before making dataframe\n",
    "print(len(brand),len(des),len(price))"
   ]
  },
  {
   "cell_type": "code",
   "execution_count": 162,
   "id": "e024317c",
   "metadata": {},
   "outputs": [
    {
     "data": {
      "text/html": [
       "<div>\n",
       "<style scoped>\n",
       "    .dataframe tbody tr th:only-of-type {\n",
       "        vertical-align: middle;\n",
       "    }\n",
       "\n",
       "    .dataframe tbody tr th {\n",
       "        vertical-align: top;\n",
       "    }\n",
       "\n",
       "    .dataframe thead th {\n",
       "        text-align: right;\n",
       "    }\n",
       "</style>\n",
       "<table border=\"1\" class=\"dataframe\">\n",
       "  <thead>\n",
       "    <tr style=\"text-align: right;\">\n",
       "      <th></th>\n",
       "      <th>Sneaker brand</th>\n",
       "      <th>Product description</th>\n",
       "      <th>Price</th>\n",
       "    </tr>\n",
       "  </thead>\n",
       "  <tbody>\n",
       "    <tr>\n",
       "      <th>0</th>\n",
       "      <td>RapidBox</td>\n",
       "      <td>Spring Edge Alpha 2 Sneakers For Men</td>\n",
       "      <td>₹595</td>\n",
       "    </tr>\n",
       "    <tr>\n",
       "      <th>1</th>\n",
       "      <td>ATOM</td>\n",
       "      <td>Alpha Predator Sneakers For Men</td>\n",
       "      <td>₹1,335</td>\n",
       "    </tr>\n",
       "    <tr>\n",
       "      <th>2</th>\n",
       "      <td>Deals4you</td>\n",
       "      <td>Sneakers For Women</td>\n",
       "      <td>₹819</td>\n",
       "    </tr>\n",
       "    <tr>\n",
       "      <th>3</th>\n",
       "      <td>URBANBOX</td>\n",
       "      <td>Trending Stylish Casual Outdoor Shoes Sneakers...</td>\n",
       "      <td>₹1,119</td>\n",
       "    </tr>\n",
       "    <tr>\n",
       "      <th>4</th>\n",
       "      <td>RED TAPE</td>\n",
       "      <td>Casual Sneakers Shoes for Men | Soft Cushioned...</td>\n",
       "      <td>₹2,474</td>\n",
       "    </tr>\n",
       "    <tr>\n",
       "      <th>...</th>\n",
       "      <td>...</td>\n",
       "      <td>...</td>\n",
       "      <td>...</td>\n",
       "    </tr>\n",
       "    <tr>\n",
       "      <th>95</th>\n",
       "      <td>aadi</td>\n",
       "      <td>A2 Sneakers For Men</td>\n",
       "      <td>₹284</td>\n",
       "    </tr>\n",
       "    <tr>\n",
       "      <th>96</th>\n",
       "      <td>ATOM</td>\n",
       "      <td>327 Sneakers For Women</td>\n",
       "      <td>₹2,580</td>\n",
       "    </tr>\n",
       "    <tr>\n",
       "      <th>97</th>\n",
       "      <td>RUN SEVEN</td>\n",
       "      <td>Spring Edge Alpha 2 Sneakers For Men</td>\n",
       "      <td>₹1,935</td>\n",
       "    </tr>\n",
       "    <tr>\n",
       "      <th>98</th>\n",
       "      <td>RED TAPE</td>\n",
       "      <td>Sneakers For Men</td>\n",
       "      <td>₹1,149</td>\n",
       "    </tr>\n",
       "    <tr>\n",
       "      <th>99</th>\n",
       "      <td>SOLETHREADS REBEL</td>\n",
       "      <td>Sneakers For Men</td>\n",
       "      <td>₹649</td>\n",
       "    </tr>\n",
       "  </tbody>\n",
       "</table>\n",
       "<p>100 rows × 3 columns</p>\n",
       "</div>"
      ],
      "text/plain": [
       "        Sneaker brand                                Product description  \\\n",
       "0            RapidBox               Spring Edge Alpha 2 Sneakers For Men   \n",
       "1                ATOM                    Alpha Predator Sneakers For Men   \n",
       "2           Deals4you                                 Sneakers For Women   \n",
       "3            URBANBOX  Trending Stylish Casual Outdoor Shoes Sneakers...   \n",
       "4            RED TAPE  Casual Sneakers Shoes for Men | Soft Cushioned...   \n",
       "..                ...                                                ...   \n",
       "95               aadi                                A2 Sneakers For Men   \n",
       "96               ATOM                             327 Sneakers For Women   \n",
       "97          RUN SEVEN               Spring Edge Alpha 2 Sneakers For Men   \n",
       "98           RED TAPE                                   Sneakers For Men   \n",
       "99  SOLETHREADS REBEL                                   Sneakers For Men   \n",
       "\n",
       "     Price  \n",
       "0     ₹595  \n",
       "1   ₹1,335  \n",
       "2     ₹819  \n",
       "3   ₹1,119  \n",
       "4   ₹2,474  \n",
       "..     ...  \n",
       "95    ₹284  \n",
       "96  ₹2,580  \n",
       "97  ₹1,935  \n",
       "98  ₹1,149  \n",
       "99    ₹649  \n",
       "\n",
       "[100 rows x 3 columns]"
      ]
     },
     "execution_count": 162,
     "metadata": {},
     "output_type": "execute_result"
    }
   ],
   "source": [
    "# make final dataframe\n",
    "flipkart_sneakers=pd.DataFrame({'Sneaker brand':brand,'Product description':des,'Price':price})\n",
    "flipkart_sneakers"
   ]
  },
  {
   "cell_type": "code",
   "execution_count": 163,
   "id": "cf859752",
   "metadata": {},
   "outputs": [],
   "source": [
    "driver.quit()"
   ]
  },
  {
   "cell_type": "markdown",
   "id": "a405aa9b",
   "metadata": {},
   "source": [
    "# Scrape laptop details with “Intel Core i7” feature from amazon\n",
    "\n",
    "Data to be scraped are:\n",
    "1. Title\n",
    "2. Ratings\n",
    "3. Price"
   ]
  },
  {
   "cell_type": "code",
   "execution_count": 164,
   "id": "c6378299",
   "metadata": {},
   "outputs": [],
   "source": [
    "# load chrome and open amazon webpage\n",
    "driver=webdriver.Chrome()\n",
    "driver.get('https://www.amazon.com/')"
   ]
  },
  {
   "cell_type": "code",
   "execution_count": 167,
   "id": "d85cbb8d",
   "metadata": {},
   "outputs": [],
   "source": [
    "# search for the keyword 'laptop'\n",
    "kw=driver.find_element(By.XPATH,'/html/body/div[1]/div[1]/div/div[2]/form/div/div/input').send_keys('laptop')\n",
    "search=driver.find_element(By.XPATH,'/html/body/div[1]/div[1]/div/div[2]/form/input').click()"
   ]
  },
  {
   "cell_type": "code",
   "execution_count": 170,
   "id": "9f9d3735",
   "metadata": {},
   "outputs": [],
   "source": [
    "# set CPU Type filter to “Intel Core i7”\n",
    "\n",
    "filter_seemore=driver.find_element(By.XPATH,'/html/body/div[1]/div[1]/div[1]/div[2]/div/div[3]/span/div/div/div/div[7]/div[7]/div/ul/li/span/div/a/span').click()\n",
    "filter_cpu=driver.find_element(By.XPATH,'/html/body/div[1]/div[1]/div[1]/div[2]/div/div[3]/span/div/div/div/div[7]/div[7]/div/ul/li/span/div/div/ul/span[15]/li/span/a/div/label/i').click()\n"
   ]
  },
  {
   "cell_type": "code",
   "execution_count": 171,
   "id": "4fc97e27",
   "metadata": {},
   "outputs": [
    {
     "data": {
      "text/plain": [
       "['ASUS ROG Strix G16 (2024) Gaming Laptop, 16” 16:10 FHD 165Hz Display, NVIDIA® GeForce RTX™ 4060, Intel Core i7-13650HX, 16GB DDR5, 1TB PCIe Gen4 SSD, Wi-Fi 6E, Windows 11, G614JV-AS74',\n",
       " 'MSI Cyborg 15 Gaming Laptop, 15.6\" 144Hz FHD IPS Display, 10-Core Intel Core i7-12650H, NVIDIA Geforce RTX 4060, 32GB DDR5 RAM, 1TB NVMe SSD, Backlit Keyboard, HDMI, USB-C, Win 11, w/CUE Accessories',\n",
       " 'Dell Inspiron 13 5310, 13.3 inch QHD (Quad High Definition) Laptop - Thin and Light Intel Core i7-11370H, 16GB DDR4 RAM, 512GB SSD, NVIDIA GeForce MX450, Services - Windows 10 Home',\n",
       " 'Dell Newest 13th Generation Business Inspiron 15 3530 Laptop, 15.6\" FHD Touchscreen, Intel Core i7-1355U, 32GB RAM, 1TB SSD, Webcam, HDMI, Wi-Fi 6, Windows 11 Pro, Black',\n",
       " 'Dell G15 5530 Gaming Laptop - 15.6-inch FHD (1920x1080) Display, Intel Core i7-13650HX, 16GB DDR5 RAM, 1TB SSD, NVIDIA GeForce RTX 4060 8GB GDDR6, Windows 11 Home, Service - Dark Shadow Gray',\n",
       " 'HP 17 Laptop, 17.3\" HD+ Touchscreen Display, 12th Gen Intel Core i7-1255U, 64GB RAM, 2TB SSD, Webcam, HDMI, SuperSpeed USB Ports, Wi-Fi 6, Windows 11 Home, Silver',\n",
       " 'ASUS Vivobook Laptop, 15.6” FHD Touchscreen, Intel Core i7-1255U Processor, 40GB RAM, 2TB SSD, Backlit Keyboard, Numeric Keypad, Webcam, HDMI, Wi-Fi 6, Windows 11 Home, Blue',\n",
       " 'Dell Latitude 7490 Intel Core i7-8650U 16GB DDR4 RAM, 512GB SSD 14\" FHD Windows 10 Pro Laptop (Renewed)',\n",
       " 'Acer Swift Go Intel Evo Thin & Light Premium Laptop 14\" 1920x1200 100% sRGB Touch Screen Display Intel Core i7-1355U Intel Iris Xe 16GB LPDDR5 512GB Gen 4 SSD SFG14-71T-72QV',\n",
       " 'Dell Inspiron 3520 15.6\" FHD Laptop, Intel Core i7-1255U Processor, 32GB RAM, 1TB SSD, Webcam, HDMI, SD-Card Slot, Wi-Fi 6, Windows 11 Home, Black']"
      ]
     },
     "execution_count": 171,
     "metadata": {},
     "output_type": "execute_result"
    }
   ],
   "source": [
    "# scrape laptop names\n",
    "title=[]\n",
    "while len(title)<10:\n",
    "    for i in driver.find_elements(By.XPATH,'//span[@class=\"a-size-medium a-color-base a-text-normal\"]'):\n",
    "        title.append(i.text)\n",
    "        if len(title)==10:\n",
    "            break\n",
    "    if len(title)==10:\n",
    "        break\n",
    "    nextbutton=driver.find_element(By.XPATH,'/html/body/div[1]/div[1]/div[1]/div[1]/div/span[1]/div[1]/div[34]/div/div/span/ul/li[4]/span/a')\n",
    "    nextbutton.click()\n",
    "    \n",
    "title"
   ]
  },
  {
   "cell_type": "code",
   "execution_count": 172,
   "id": "782102d2",
   "metadata": {},
   "outputs": [
    {
     "data": {
      "text/plain": [
       "[['4.1 out of 5 stars'],\n",
       " ['4.1 out of 5 stars'],\n",
       " ['4.0 out of 5 stars'],\n",
       " ['4.1 out of 5 stars'],\n",
       " ['4.2 out of 5 stars'],\n",
       " ['3.8 out of 5 stars'],\n",
       " ['4.2 out of 5 stars'],\n",
       " ['4.1 out of 5 stars'],\n",
       " ['4.1 out of 5 stars'],\n",
       " ['4.0 out of 5 stars']]"
      ]
     },
     "execution_count": 172,
     "metadata": {},
     "output_type": "execute_result"
    }
   ],
   "source": [
    "# scrape laptop ratings\n",
    "rating=[]\n",
    "while len(rating)<10:\n",
    "    for i in driver.find_elements(By.XPATH,'//i[@class=\"a-icon a-icon-star-small a-star-small-4 aok-align-bottom\"]'):\n",
    "        \n",
    "        inner=i.get_attribute('innerHTML')\n",
    "        rate=re.findall(r'(?<=>)\\d.\\d[\\w+|\\s]+(?<=)' , inner)\n",
    "        rating.append(rate)\n",
    "        if len(rating)==10:\n",
    "            break\n",
    "\n",
    "    if len(rating)==10:\n",
    "        break\n",
    "    \n",
    "rating"
   ]
  },
  {
   "cell_type": "code",
   "execution_count": 173,
   "id": "c4aeb1e4",
   "metadata": {},
   "outputs": [
    {
     "data": {
      "text/plain": [
       "['1,396', '1,089', '799', '822', '1,180', '913', '743', '268', '694', '704']"
      ]
     },
     "execution_count": 173,
     "metadata": {},
     "output_type": "execute_result"
    }
   ],
   "source": [
    "# scrape laptop price\n",
    "price=[]\n",
    "while len(price)<10:\n",
    "    for i in driver.find_elements(By.XPATH,'//span[@class=\"a-price-whole\"]'):\n",
    "        price.append(i.text)\n",
    "        if len(price)==10:\n",
    "            break\n",
    "    if len(price)==10:\n",
    "        break\n",
    "    \n",
    "price"
   ]
  },
  {
   "cell_type": "code",
   "execution_count": 174,
   "id": "334ad641",
   "metadata": {},
   "outputs": [
    {
     "name": "stdout",
     "output_type": "stream",
     "text": [
      "10 10 10\n"
     ]
    }
   ],
   "source": [
    "# ensure all lists have same size before making dataframe\n",
    "print(len(title),len(rating),len(price))"
   ]
  },
  {
   "cell_type": "code",
   "execution_count": 175,
   "id": "71d33abb",
   "metadata": {},
   "outputs": [
    {
     "data": {
      "text/html": [
       "<div>\n",
       "<style scoped>\n",
       "    .dataframe tbody tr th:only-of-type {\n",
       "        vertical-align: middle;\n",
       "    }\n",
       "\n",
       "    .dataframe tbody tr th {\n",
       "        vertical-align: top;\n",
       "    }\n",
       "\n",
       "    .dataframe thead th {\n",
       "        text-align: right;\n",
       "    }\n",
       "</style>\n",
       "<table border=\"1\" class=\"dataframe\">\n",
       "  <thead>\n",
       "    <tr style=\"text-align: right;\">\n",
       "      <th></th>\n",
       "      <th>Laptop name</th>\n",
       "      <th>Customer rating</th>\n",
       "      <th>Price</th>\n",
       "    </tr>\n",
       "  </thead>\n",
       "  <tbody>\n",
       "    <tr>\n",
       "      <th>0</th>\n",
       "      <td>ASUS ROG Strix G16 (2024) Gaming Laptop, 16” 1...</td>\n",
       "      <td>[4.1 out of 5 stars]</td>\n",
       "      <td>1,396</td>\n",
       "    </tr>\n",
       "    <tr>\n",
       "      <th>1</th>\n",
       "      <td>MSI Cyborg 15 Gaming Laptop, 15.6\" 144Hz FHD I...</td>\n",
       "      <td>[4.1 out of 5 stars]</td>\n",
       "      <td>1,089</td>\n",
       "    </tr>\n",
       "    <tr>\n",
       "      <th>2</th>\n",
       "      <td>Dell Inspiron 13 5310, 13.3 inch QHD (Quad Hig...</td>\n",
       "      <td>[4.0 out of 5 stars]</td>\n",
       "      <td>799</td>\n",
       "    </tr>\n",
       "    <tr>\n",
       "      <th>3</th>\n",
       "      <td>Dell Newest 13th Generation Business Inspiron ...</td>\n",
       "      <td>[4.1 out of 5 stars]</td>\n",
       "      <td>822</td>\n",
       "    </tr>\n",
       "    <tr>\n",
       "      <th>4</th>\n",
       "      <td>Dell G15 5530 Gaming Laptop - 15.6-inch FHD (1...</td>\n",
       "      <td>[4.2 out of 5 stars]</td>\n",
       "      <td>1,180</td>\n",
       "    </tr>\n",
       "    <tr>\n",
       "      <th>5</th>\n",
       "      <td>HP 17 Laptop, 17.3\" HD+ Touchscreen Display, 1...</td>\n",
       "      <td>[3.8 out of 5 stars]</td>\n",
       "      <td>913</td>\n",
       "    </tr>\n",
       "    <tr>\n",
       "      <th>6</th>\n",
       "      <td>ASUS Vivobook Laptop, 15.6” FHD Touchscreen, I...</td>\n",
       "      <td>[4.2 out of 5 stars]</td>\n",
       "      <td>743</td>\n",
       "    </tr>\n",
       "    <tr>\n",
       "      <th>7</th>\n",
       "      <td>Dell Latitude 7490 Intel Core i7-8650U 16GB DD...</td>\n",
       "      <td>[4.1 out of 5 stars]</td>\n",
       "      <td>268</td>\n",
       "    </tr>\n",
       "    <tr>\n",
       "      <th>8</th>\n",
       "      <td>Acer Swift Go Intel Evo Thin &amp; Light Premium L...</td>\n",
       "      <td>[4.1 out of 5 stars]</td>\n",
       "      <td>694</td>\n",
       "    </tr>\n",
       "    <tr>\n",
       "      <th>9</th>\n",
       "      <td>Dell Inspiron 3520 15.6\" FHD Laptop, Intel Cor...</td>\n",
       "      <td>[4.0 out of 5 stars]</td>\n",
       "      <td>704</td>\n",
       "    </tr>\n",
       "  </tbody>\n",
       "</table>\n",
       "</div>"
      ],
      "text/plain": [
       "                                         Laptop name       Customer rating  \\\n",
       "0  ASUS ROG Strix G16 (2024) Gaming Laptop, 16” 1...  [4.1 out of 5 stars]   \n",
       "1  MSI Cyborg 15 Gaming Laptop, 15.6\" 144Hz FHD I...  [4.1 out of 5 stars]   \n",
       "2  Dell Inspiron 13 5310, 13.3 inch QHD (Quad Hig...  [4.0 out of 5 stars]   \n",
       "3  Dell Newest 13th Generation Business Inspiron ...  [4.1 out of 5 stars]   \n",
       "4  Dell G15 5530 Gaming Laptop - 15.6-inch FHD (1...  [4.2 out of 5 stars]   \n",
       "5  HP 17 Laptop, 17.3\" HD+ Touchscreen Display, 1...  [3.8 out of 5 stars]   \n",
       "6  ASUS Vivobook Laptop, 15.6” FHD Touchscreen, I...  [4.2 out of 5 stars]   \n",
       "7  Dell Latitude 7490 Intel Core i7-8650U 16GB DD...  [4.1 out of 5 stars]   \n",
       "8  Acer Swift Go Intel Evo Thin & Light Premium L...  [4.1 out of 5 stars]   \n",
       "9  Dell Inspiron 3520 15.6\" FHD Laptop, Intel Cor...  [4.0 out of 5 stars]   \n",
       "\n",
       "   Price  \n",
       "0  1,396  \n",
       "1  1,089  \n",
       "2    799  \n",
       "3    822  \n",
       "4  1,180  \n",
       "5    913  \n",
       "6    743  \n",
       "7    268  \n",
       "8    694  \n",
       "9    704  "
      ]
     },
     "execution_count": 175,
     "metadata": {},
     "output_type": "execute_result"
    }
   ],
   "source": [
    "laptop_data=pd.DataFrame({'Laptop name':title,'Customer rating':rating,'Price': price})\n",
    "laptop_data"
   ]
  },
  {
   "cell_type": "code",
   "execution_count": 176,
   "id": "c6b921ab",
   "metadata": {},
   "outputs": [],
   "source": [
    "driver.quit()"
   ]
  },
  {
   "cell_type": "markdown",
   "id": "05225ca8",
   "metadata": {},
   "source": [
    "# Scrape data for Top 1000 Quotes of All Time from azquotes.com webpage.\n",
    "Scrap a) Quote b) Author c) Type Of Quotes"
   ]
  },
  {
   "cell_type": "code",
   "execution_count": 177,
   "id": "d255b60d",
   "metadata": {},
   "outputs": [],
   "source": [
    "# load chrome and search webpage\n",
    "driver=webdriver.Chrome()\n",
    "url='https://www.azquotes.com/'\n",
    "driver.get(url)"
   ]
  },
  {
   "cell_type": "code",
   "execution_count": 178,
   "id": "538ec0b5",
   "metadata": {},
   "outputs": [],
   "source": [
    "# click on Top Quote\n",
    "driver.find_element(By.XPATH,'/html/body/div[1]/div[1]/div[1]/div/div[3]/ul/li[5]/a').click()"
   ]
  },
  {
   "cell_type": "code",
   "execution_count": 179,
   "id": "a7f14183",
   "metadata": {},
   "outputs": [
    {
     "data": {
      "text/plain": [
       "['The essence of strategy is choosing what not to do.',\n",
       " 'One cannot and must not try to erase the past merely because it does not fit the present.',\n",
       " 'Patriotism means to stand by the country. It does not mean to stand by the president.',\n",
       " 'Death is something inevitable. When a man has done what he considers to be his duty to his people and his country, he can rest in peace. I believe I have made that effort and that is, therefore, why I will sleep for the eternity.',\n",
       " 'You have to love a nation that celebrates its independence every July 4, not with a parade of guns, tanks, and soldiers who file by the White House in a show of strength and muscle, but with family picnics where kids throw Frisbees, the potato salad gets iffy, and the flies die from happiness. You may think you have overeaten, but it is patriotism.']"
      ]
     },
     "execution_count": 179,
     "metadata": {},
     "output_type": "execute_result"
    }
   ],
   "source": [
    "# scrap quote\n",
    "quote=[]\n",
    "while len(quote)<100:\n",
    "    for i in driver.find_elements(By.XPATH,'//a[@class=\"title\"]'):\n",
    "        quote.append(i.text)\n",
    "        if len(quote)==100:\n",
    "            break\n",
    "    if len(quote)==100:\n",
    "        break\n",
    "quote[:5]"
   ]
  },
  {
   "cell_type": "code",
   "execution_count": 180,
   "id": "76b01e7b",
   "metadata": {},
   "outputs": [
    {
     "data": {
      "text/plain": [
       "['Michael Porter',\n",
       " 'Golda Meir',\n",
       " 'Theodore Roosevelt',\n",
       " 'Nelson Mandela',\n",
       " 'Erma Bombeck']"
      ]
     },
     "execution_count": 180,
     "metadata": {},
     "output_type": "execute_result"
    }
   ],
   "source": [
    "# scrap author\n",
    "author=[]\n",
    "while len(author)<100:\n",
    "    for i in driver.find_elements(By.XPATH,'//div[@class=\"author\"]/a'):\n",
    "        author.append(i.text)\n",
    "        if len(author)==100:\n",
    "            break\n",
    "    if len(author)==100:\n",
    "        break\n",
    "author[:5]"
   ]
  },
  {
   "cell_type": "code",
   "execution_count": 181,
   "id": "6d50277d",
   "metadata": {},
   "outputs": [
    {
     "data": {
      "text/plain": [
       "['Essence, Deep Thought, Transcendentalism',\n",
       " 'Inspiration, Past, Trying',\n",
       " 'Country, Peace, War',\n",
       " 'Inspirational, Motivational, Death',\n",
       " '4th Of July, Food, Patriotic']"
      ]
     },
     "execution_count": 181,
     "metadata": {},
     "output_type": "execute_result"
    }
   ],
   "source": [
    "# scrap type of quotes\n",
    "typeq=[]\n",
    "while len(typeq)<100:\n",
    "    for i in driver.find_elements(By.XPATH,'//div[@class=\"tags\"]'):\n",
    "        typeq.append(i.text)\n",
    "        if len(typeq)==100:\n",
    "            break\n",
    "    if len(typeq)==100:\n",
    "        break\n",
    "typeq[:5]"
   ]
  },
  {
   "cell_type": "code",
   "execution_count": 182,
   "id": "22cd120e",
   "metadata": {},
   "outputs": [
    {
     "name": "stdout",
     "output_type": "stream",
     "text": [
      "100 100 100\n"
     ]
    }
   ],
   "source": [
    "# ensure all lists have same size before making dataframe\n",
    "print(len(quote),len(author),len(typeq))"
   ]
  },
  {
   "cell_type": "code",
   "execution_count": 183,
   "id": "a65e267f",
   "metadata": {},
   "outputs": [
    {
     "data": {
      "text/html": [
       "<div>\n",
       "<style scoped>\n",
       "    .dataframe tbody tr th:only-of-type {\n",
       "        vertical-align: middle;\n",
       "    }\n",
       "\n",
       "    .dataframe tbody tr th {\n",
       "        vertical-align: top;\n",
       "    }\n",
       "\n",
       "    .dataframe thead th {\n",
       "        text-align: right;\n",
       "    }\n",
       "</style>\n",
       "<table border=\"1\" class=\"dataframe\">\n",
       "  <thead>\n",
       "    <tr style=\"text-align: right;\">\n",
       "      <th></th>\n",
       "      <th>Quotes</th>\n",
       "      <th>Author</th>\n",
       "      <th>Type of Quote</th>\n",
       "    </tr>\n",
       "  </thead>\n",
       "  <tbody>\n",
       "    <tr>\n",
       "      <th>0</th>\n",
       "      <td>The essence of strategy is choosing what not t...</td>\n",
       "      <td>Michael Porter</td>\n",
       "      <td>Essence, Deep Thought, Transcendentalism</td>\n",
       "    </tr>\n",
       "    <tr>\n",
       "      <th>1</th>\n",
       "      <td>One cannot and must not try to erase the past ...</td>\n",
       "      <td>Golda Meir</td>\n",
       "      <td>Inspiration, Past, Trying</td>\n",
       "    </tr>\n",
       "    <tr>\n",
       "      <th>2</th>\n",
       "      <td>Patriotism means to stand by the country. It d...</td>\n",
       "      <td>Theodore Roosevelt</td>\n",
       "      <td>Country, Peace, War</td>\n",
       "    </tr>\n",
       "    <tr>\n",
       "      <th>3</th>\n",
       "      <td>Death is something inevitable. When a man has ...</td>\n",
       "      <td>Nelson Mandela</td>\n",
       "      <td>Inspirational, Motivational, Death</td>\n",
       "    </tr>\n",
       "    <tr>\n",
       "      <th>4</th>\n",
       "      <td>You have to love a nation that celebrates its ...</td>\n",
       "      <td>Erma Bombeck</td>\n",
       "      <td>4th Of July, Food, Patriotic</td>\n",
       "    </tr>\n",
       "    <tr>\n",
       "      <th>...</th>\n",
       "      <td>...</td>\n",
       "      <td>...</td>\n",
       "      <td>...</td>\n",
       "    </tr>\n",
       "    <tr>\n",
       "      <th>95</th>\n",
       "      <td>When the going gets weird, the weird turn pro.</td>\n",
       "      <td>Hunter S. Thompson</td>\n",
       "      <td>Music, Sports, Hunting</td>\n",
       "    </tr>\n",
       "    <tr>\n",
       "      <th>96</th>\n",
       "      <td>When a train goes through a tunnel and it gets...</td>\n",
       "      <td>Corrie Ten Boom</td>\n",
       "      <td>Trust, Encouraging, Uplifting</td>\n",
       "    </tr>\n",
       "    <tr>\n",
       "      <th>97</th>\n",
       "      <td>If you think you are too small to make a diffe...</td>\n",
       "      <td>Dalai Lama</td>\n",
       "      <td>Inspirational, Funny, Change</td>\n",
       "    </tr>\n",
       "    <tr>\n",
       "      <th>98</th>\n",
       "      <td>God doesn't require us to succeed, he only req...</td>\n",
       "      <td>Mother Teresa</td>\n",
       "      <td>Success, God, Mother</td>\n",
       "    </tr>\n",
       "    <tr>\n",
       "      <th>99</th>\n",
       "      <td>Change your thoughts and you change your world.</td>\n",
       "      <td>Norman Vincent Peale</td>\n",
       "      <td>Inspirational, Motivational, Change</td>\n",
       "    </tr>\n",
       "  </tbody>\n",
       "</table>\n",
       "<p>100 rows × 3 columns</p>\n",
       "</div>"
      ],
      "text/plain": [
       "                                               Quotes                Author  \\\n",
       "0   The essence of strategy is choosing what not t...        Michael Porter   \n",
       "1   One cannot and must not try to erase the past ...            Golda Meir   \n",
       "2   Patriotism means to stand by the country. It d...    Theodore Roosevelt   \n",
       "3   Death is something inevitable. When a man has ...        Nelson Mandela   \n",
       "4   You have to love a nation that celebrates its ...          Erma Bombeck   \n",
       "..                                                ...                   ...   \n",
       "95     When the going gets weird, the weird turn pro.    Hunter S. Thompson   \n",
       "96  When a train goes through a tunnel and it gets...       Corrie Ten Boom   \n",
       "97  If you think you are too small to make a diffe...            Dalai Lama   \n",
       "98  God doesn't require us to succeed, he only req...         Mother Teresa   \n",
       "99    Change your thoughts and you change your world.  Norman Vincent Peale   \n",
       "\n",
       "                               Type of Quote  \n",
       "0   Essence, Deep Thought, Transcendentalism  \n",
       "1                  Inspiration, Past, Trying  \n",
       "2                        Country, Peace, War  \n",
       "3         Inspirational, Motivational, Death  \n",
       "4               4th Of July, Food, Patriotic  \n",
       "..                                       ...  \n",
       "95                    Music, Sports, Hunting  \n",
       "96             Trust, Encouraging, Uplifting  \n",
       "97              Inspirational, Funny, Change  \n",
       "98                      Success, God, Mother  \n",
       "99       Inspirational, Motivational, Change  \n",
       "\n",
       "[100 rows x 3 columns]"
      ]
     },
     "execution_count": 183,
     "metadata": {},
     "output_type": "execute_result"
    }
   ],
   "source": [
    "azquotes_data=pd.DataFrame({'Quotes':quote,'Author':author,'Type of Quote':typeq})\n",
    "azquotes_data"
   ]
  },
  {
   "cell_type": "code",
   "execution_count": 184,
   "id": "b9435e4c",
   "metadata": {},
   "outputs": [],
   "source": [
    "driver.quit()"
   ]
  },
  {
   "cell_type": "markdown",
   "id": "ac1858df",
   "metadata": {},
   "source": [
    "# Scrape details of respected former Prime Ministers of India (i.e. Name, Born-Dead, Term of office, Remarks) from:\n",
    "https://www.jagranjosh.com/general-knowledge/list-of-all-prime-ministers-of-india-1473165149-1\n"
   ]
  },
  {
   "cell_type": "code",
   "execution_count": 185,
   "id": "bba72626",
   "metadata": {},
   "outputs": [],
   "source": [
    "# load chrome and search webpage\n",
    "driver=webdriver.Chrome()\n",
    "url='https://www.jagranjosh.com/general-knowledge/list-of-all-prime-ministers-of-india-1473165149-1'\n",
    "driver.get(url)"
   ]
  },
  {
   "cell_type": "code",
   "execution_count": 186,
   "id": "cc30f55d",
   "metadata": {},
   "outputs": [
    {
     "data": {
      "text/html": [
       "<div>\n",
       "<style scoped>\n",
       "    .dataframe tbody tr th:only-of-type {\n",
       "        vertical-align: middle;\n",
       "    }\n",
       "\n",
       "    .dataframe tbody tr th {\n",
       "        vertical-align: top;\n",
       "    }\n",
       "\n",
       "    .dataframe thead th {\n",
       "        text-align: right;\n",
       "    }\n",
       "</style>\n",
       "<table border=\"1\" class=\"dataframe\">\n",
       "  <thead>\n",
       "    <tr style=\"text-align: right;\">\n",
       "      <th></th>\n",
       "      <th>S.No</th>\n",
       "      <th>Prime Minister</th>\n",
       "      <th>Born-Dead</th>\n",
       "      <th>Term of Office</th>\n",
       "      <th>Remarks</th>\n",
       "    </tr>\n",
       "  </thead>\n",
       "  <tbody>\n",
       "    <tr>\n",
       "      <th>1</th>\n",
       "      <td>1.</td>\n",
       "      <td>Jawahar Lal Nehru</td>\n",
       "      <td>(1889–1964)</td>\n",
       "      <td>15 August 1947 to 27 May 1964 16 years, 286 days</td>\n",
       "      <td>The first prime minister of India and the long...</td>\n",
       "    </tr>\n",
       "    <tr>\n",
       "      <th>2</th>\n",
       "      <td>2.</td>\n",
       "      <td>Gulzarilal Nanda (Acting)</td>\n",
       "      <td>(1898-1998)</td>\n",
       "      <td>27 May 1964 to 9 June 1964, 13 days</td>\n",
       "      <td>First acting PM of India</td>\n",
       "    </tr>\n",
       "    <tr>\n",
       "      <th>3</th>\n",
       "      <td>3.</td>\n",
       "      <td>Lal Bahadur Shastri</td>\n",
       "      <td>(1904–1966)</td>\n",
       "      <td>9 June 1964 to 11 January 1966 1 year, 216 days</td>\n",
       "      <td>He has given the slogan of 'Jai Jawan Jai Kisa...</td>\n",
       "    </tr>\n",
       "    <tr>\n",
       "      <th>4</th>\n",
       "      <td>4.</td>\n",
       "      <td>Gulzari Lal Nanda  (Acting)</td>\n",
       "      <td>(1898-1998)</td>\n",
       "      <td>11 January 1966 to 24 January 1966 13 days</td>\n",
       "      <td>-</td>\n",
       "    </tr>\n",
       "    <tr>\n",
       "      <th>5</th>\n",
       "      <td>5.</td>\n",
       "      <td>Indira Gandhi</td>\n",
       "      <td>(1917–1984)</td>\n",
       "      <td>24 January 1966 to 24 March 1977 11 years, 59 ...</td>\n",
       "      <td>First female Prime Minister of India</td>\n",
       "    </tr>\n",
       "    <tr>\n",
       "      <th>6</th>\n",
       "      <td>6.</td>\n",
       "      <td>Morarji Desai</td>\n",
       "      <td>(1896–1995)</td>\n",
       "      <td>24 March 1977 to  28 July 1979  2 year, 126 days</td>\n",
       "      <td>Oldest to become PM (81 years old) and first t...</td>\n",
       "    </tr>\n",
       "    <tr>\n",
       "      <th>7</th>\n",
       "      <td>7.</td>\n",
       "      <td>Charan Singh</td>\n",
       "      <td>(1902–1987)</td>\n",
       "      <td>28 July 1979 to 14 January 1980 170 days</td>\n",
       "      <td>Only PM who did not face the Parliament</td>\n",
       "    </tr>\n",
       "    <tr>\n",
       "      <th>8</th>\n",
       "      <td>8.</td>\n",
       "      <td>Indira Gandhi</td>\n",
       "      <td>(1917–1984)</td>\n",
       "      <td>14 January 1980 to 31 October 1984 4 years, 29...</td>\n",
       "      <td>The first lady who served as PM for the second...</td>\n",
       "    </tr>\n",
       "    <tr>\n",
       "      <th>9</th>\n",
       "      <td>9.</td>\n",
       "      <td>Rajiv Gandhi</td>\n",
       "      <td>(1944–1991)</td>\n",
       "      <td>31 October 1984 to 2 December 1989 5 years, 32...</td>\n",
       "      <td>Youngest to become PM (40 years old)</td>\n",
       "    </tr>\n",
       "    <tr>\n",
       "      <th>10</th>\n",
       "      <td>10.</td>\n",
       "      <td>V. P. Singh</td>\n",
       "      <td>(1931–2008)</td>\n",
       "      <td>2 December 1989 to 10 November 1990 343 days</td>\n",
       "      <td>First PM to step down after a vote of no confi...</td>\n",
       "    </tr>\n",
       "    <tr>\n",
       "      <th>11</th>\n",
       "      <td>11.</td>\n",
       "      <td>Chandra Shekhar</td>\n",
       "      <td>(1927–2007)</td>\n",
       "      <td>10 November 1990 to 21 June 1991 223 days</td>\n",
       "      <td>He belongs to  Samajwadi Janata Party</td>\n",
       "    </tr>\n",
       "    <tr>\n",
       "      <th>12</th>\n",
       "      <td>12.</td>\n",
       "      <td>P. V. Narasimha Rao</td>\n",
       "      <td>(1921–2004)</td>\n",
       "      <td>21 June 1991 to 16 May 1996 4 years, 330 days</td>\n",
       "      <td>First PM from South India</td>\n",
       "    </tr>\n",
       "    <tr>\n",
       "      <th>13</th>\n",
       "      <td>13.</td>\n",
       "      <td>Atal Bihari Vajpayee</td>\n",
       "      <td>(1924- 2018)</td>\n",
       "      <td>16 May 1996 to 1 June 1996 16 days</td>\n",
       "      <td>PM for shortest tenure</td>\n",
       "    </tr>\n",
       "    <tr>\n",
       "      <th>14</th>\n",
       "      <td>14.</td>\n",
       "      <td>H. D. Deve Gowda</td>\n",
       "      <td>(born 1933)</td>\n",
       "      <td>1 June 1996 to 21 April 1997 324 days</td>\n",
       "      <td>He belongs to  Janata Dal</td>\n",
       "    </tr>\n",
       "    <tr>\n",
       "      <th>15</th>\n",
       "      <td>15.</td>\n",
       "      <td>Inder Kumar Gujral</td>\n",
       "      <td>(1919–2012)</td>\n",
       "      <td>21 April 1997 to 19 March 1998  332 days</td>\n",
       "      <td>------</td>\n",
       "    </tr>\n",
       "    <tr>\n",
       "      <th>16</th>\n",
       "      <td>16.</td>\n",
       "      <td>Atal Bihari Vajpayee</td>\n",
       "      <td>(1924-2018)</td>\n",
       "      <td>19 March 1998 to 22 May 2004  6 years, 64 days</td>\n",
       "      <td>The first non-congress PM who completed a full...</td>\n",
       "    </tr>\n",
       "    <tr>\n",
       "      <th>17</th>\n",
       "      <td>17.</td>\n",
       "      <td>Manmohan Singh</td>\n",
       "      <td>(born 1932)</td>\n",
       "      <td>22 May 2004 to 26 May 2014    10 years, 4 days</td>\n",
       "      <td>First Sikh PM</td>\n",
       "    </tr>\n",
       "    <tr>\n",
       "      <th>18</th>\n",
       "      <td>18.</td>\n",
       "      <td>Narendra Modi</td>\n",
       "      <td>(born 1950)</td>\n",
       "      <td>26 May 2014 - 2019</td>\n",
       "      <td>4th Prime Minister of India who served two con...</td>\n",
       "    </tr>\n",
       "    <tr>\n",
       "      <th>19</th>\n",
       "      <td>19.</td>\n",
       "      <td>Narendra Modi</td>\n",
       "      <td>(born 1950)</td>\n",
       "      <td>30 May 2019- Incumbent</td>\n",
       "      <td>First non-congress PM with two consecutive ten...</td>\n",
       "    </tr>\n",
       "  </tbody>\n",
       "</table>\n",
       "</div>"
      ],
      "text/plain": [
       "   S.No               Prime Minister     Born-Dead  \\\n",
       "1    1.            Jawahar Lal Nehru   (1889–1964)   \n",
       "2    2.    Gulzarilal Nanda (Acting)   (1898-1998)   \n",
       "3    3.          Lal Bahadur Shastri   (1904–1966)   \n",
       "4    4.  Gulzari Lal Nanda  (Acting)   (1898-1998)   \n",
       "5    5.                Indira Gandhi   (1917–1984)   \n",
       "6    6.                Morarji Desai   (1896–1995)   \n",
       "7    7.                 Charan Singh   (1902–1987)   \n",
       "8    8.                Indira Gandhi   (1917–1984)   \n",
       "9    9.                 Rajiv Gandhi   (1944–1991)   \n",
       "10  10.                  V. P. Singh   (1931–2008)   \n",
       "11  11.              Chandra Shekhar   (1927–2007)   \n",
       "12  12.          P. V. Narasimha Rao   (1921–2004)   \n",
       "13  13.         Atal Bihari Vajpayee  (1924- 2018)   \n",
       "14  14.             H. D. Deve Gowda   (born 1933)   \n",
       "15  15.           Inder Kumar Gujral   (1919–2012)   \n",
       "16  16.         Atal Bihari Vajpayee   (1924-2018)   \n",
       "17  17.               Manmohan Singh   (born 1932)   \n",
       "18  18.                Narendra Modi   (born 1950)   \n",
       "19  19.                Narendra Modi   (born 1950)   \n",
       "\n",
       "                                       Term of Office  \\\n",
       "1    15 August 1947 to 27 May 1964 16 years, 286 days   \n",
       "2                 27 May 1964 to 9 June 1964, 13 days   \n",
       "3     9 June 1964 to 11 January 1966 1 year, 216 days   \n",
       "4          11 January 1966 to 24 January 1966 13 days   \n",
       "5   24 January 1966 to 24 March 1977 11 years, 59 ...   \n",
       "6    24 March 1977 to  28 July 1979  2 year, 126 days   \n",
       "7            28 July 1979 to 14 January 1980 170 days   \n",
       "8   14 January 1980 to 31 October 1984 4 years, 29...   \n",
       "9   31 October 1984 to 2 December 1989 5 years, 32...   \n",
       "10       2 December 1989 to 10 November 1990 343 days   \n",
       "11          10 November 1990 to 21 June 1991 223 days   \n",
       "12      21 June 1991 to 16 May 1996 4 years, 330 days   \n",
       "13                 16 May 1996 to 1 June 1996 16 days   \n",
       "14              1 June 1996 to 21 April 1997 324 days   \n",
       "15           21 April 1997 to 19 March 1998  332 days   \n",
       "16     19 March 1998 to 22 May 2004  6 years, 64 days   \n",
       "17     22 May 2004 to 26 May 2014    10 years, 4 days   \n",
       "18                                 26 May 2014 - 2019   \n",
       "19                             30 May 2019- Incumbent   \n",
       "\n",
       "                                              Remarks  \n",
       "1   The first prime minister of India and the long...  \n",
       "2                            First acting PM of India  \n",
       "3   He has given the slogan of 'Jai Jawan Jai Kisa...  \n",
       "4                                                   -  \n",
       "5                First female Prime Minister of India  \n",
       "6   Oldest to become PM (81 years old) and first t...  \n",
       "7             Only PM who did not face the Parliament  \n",
       "8   The first lady who served as PM for the second...  \n",
       "9                Youngest to become PM (40 years old)  \n",
       "10  First PM to step down after a vote of no confi...  \n",
       "11              He belongs to  Samajwadi Janata Party  \n",
       "12                          First PM from South India  \n",
       "13                             PM for shortest tenure  \n",
       "14                          He belongs to  Janata Dal  \n",
       "15                                             ------  \n",
       "16  The first non-congress PM who completed a full...  \n",
       "17                                      First Sikh PM  \n",
       "18  4th Prime Minister of India who served two con...  \n",
       "19  First non-congress PM with two consecutive ten...  "
      ]
     },
     "metadata": {},
     "output_type": "display_data"
    }
   ],
   "source": [
    "# scrape whole data from table\n",
    "table=driver.find_element(By.XPATH,'(//table)[1]')\n",
    "\n",
    "data=[]\n",
    "\n",
    "rows=table.find_elements(By.TAG_NAME,'tr')\n",
    "for i in rows:\n",
    "    records=[]\n",
    "    columns=i.find_elements(By.TAG_NAME,'td')\n",
    "    for j in columns:\n",
    "        records.append(j.text.strip().replace('\\n',' '))\n",
    "    data.append(records)\n",
    "table_data=pd.DataFrame(data,columns=['S.No','Prime Minister','Born-Dead','Term of Office','Remarks'])\n",
    "table_data=table_data.dropna(how='all')\n",
    "display(table_data)"
   ]
  },
  {
   "cell_type": "code",
   "execution_count": 187,
   "id": "cd99db21",
   "metadata": {},
   "outputs": [],
   "source": [
    "driver.quit()"
   ]
  }
 ],
 "metadata": {
  "kernelspec": {
   "display_name": "Python 3 (ipykernel)",
   "language": "python",
   "name": "python3"
  },
  "language_info": {
   "codemirror_mode": {
    "name": "ipython",
    "version": 3
   },
   "file_extension": ".py",
   "mimetype": "text/x-python",
   "name": "python",
   "nbconvert_exporter": "python",
   "pygments_lexer": "ipython3",
   "version": "3.11.5"
  }
 },
 "nbformat": 4,
 "nbformat_minor": 5
}
